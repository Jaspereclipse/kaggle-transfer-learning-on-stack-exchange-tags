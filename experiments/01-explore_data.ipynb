{
 "cells": [
  {
   "cell_type": "markdown",
   "metadata": {},
   "source": [
    "# Explore Data"
   ]
  },
  {
   "cell_type": "code",
   "execution_count": 2,
   "metadata": {
    "collapsed": false
   },
   "outputs": [],
   "source": [
    "import pandas as pd\n",
    "import os.path as osp"
   ]
  },
  {
   "cell_type": "code",
   "execution_count": 6,
   "metadata": {
    "collapsed": true
   },
   "outputs": [],
   "source": [
    "train_data_dir = '../data/train'\n",
    "test_data_dir = '../data/test/test.csv'\n",
    "topics = ['biology', 'cooking', 'crypto', 'diy', 'robotics', 'travel']"
   ]
  },
  {
   "cell_type": "code",
   "execution_count": 11,
   "metadata": {
    "collapsed": false
   },
   "outputs": [],
   "source": [
    "df_list = []\n",
    "for t in topics:\n",
    "    df_local = pd.read_csv(osp.join(train_data_dir, \"\".join([t, '.csv'])))\n",
    "    df_local['topic'] = t\n",
    "    df_list.append(df_local)\n",
    "df_all = pd.concat(df_list)\n",
    "del df_list"
   ]
  },
  {
   "cell_type": "code",
   "execution_count": 13,
   "metadata": {
    "collapsed": false
   },
   "outputs": [
    {
     "data": {
      "text/html": [
       "<div>\n",
       "<table border=\"1\" class=\"dataframe\">\n",
       "  <thead>\n",
       "    <tr style=\"text-align: right;\">\n",
       "      <th></th>\n",
       "      <th>id</th>\n",
       "      <th>title</th>\n",
       "      <th>content</th>\n",
       "      <th>tags</th>\n",
       "      <th>topic</th>\n",
       "    </tr>\n",
       "  </thead>\n",
       "  <tbody>\n",
       "    <tr>\n",
       "      <th>19274</th>\n",
       "      <td>78013</td>\n",
       "      <td>Tipping in USA.California.SF</td>\n",
       "      <td>&lt;p&gt;Being a &lt;a href=\"https://gsamaras.wordpress...</td>\n",
       "      <td>usa food-and-drink california tipping san-fran...</td>\n",
       "      <td>travel</td>\n",
       "    </tr>\n",
       "    <tr>\n",
       "      <th>19275</th>\n",
       "      <td>78016</td>\n",
       "      <td>As a Canadian, what are appropriate gifts to b...</td>\n",
       "      <td>&lt;p&gt;I live in Vancouver, Canada and will be tra...</td>\n",
       "      <td>uk canada france culture gifts</td>\n",
       "      <td>travel</td>\n",
       "    </tr>\n",
       "    <tr>\n",
       "      <th>19276</th>\n",
       "      <td>78018</td>\n",
       "      <td>Does Macedonian police issue visitors a regist...</td>\n",
       "      <td>&lt;p&gt;In Serbia and Macedonia, you have to Regist...</td>\n",
       "      <td>customs-and-immigration officials registration...</td>\n",
       "      <td>travel</td>\n",
       "    </tr>\n",
       "    <tr>\n",
       "      <th>19277</th>\n",
       "      <td>78019</td>\n",
       "      <td>Can my Austrian Visa D be renewed?</td>\n",
       "      <td>&lt;p&gt;I am in Austria on a Visa D multiple entry,...</td>\n",
       "      <td>visas austria</td>\n",
       "      <td>travel</td>\n",
       "    </tr>\n",
       "    <tr>\n",
       "      <th>19278</th>\n",
       "      <td>78022</td>\n",
       "      <td>Shortest wide-body route from Frankfurt</td>\n",
       "      <td>&lt;p&gt;What is the shortest passenger route served...</td>\n",
       "      <td>untagged</td>\n",
       "      <td>travel</td>\n",
       "    </tr>\n",
       "  </tbody>\n",
       "</table>\n",
       "</div>"
      ],
      "text/plain": [
       "          id                                              title  \\\n",
       "19274  78013                       Tipping in USA.California.SF   \n",
       "19275  78016  As a Canadian, what are appropriate gifts to b...   \n",
       "19276  78018  Does Macedonian police issue visitors a regist...   \n",
       "19277  78019                 Can my Austrian Visa D be renewed?   \n",
       "19278  78022            Shortest wide-body route from Frankfurt   \n",
       "\n",
       "                                                 content  \\\n",
       "19274  <p>Being a <a href=\"https://gsamaras.wordpress...   \n",
       "19275  <p>I live in Vancouver, Canada and will be tra...   \n",
       "19276  <p>In Serbia and Macedonia, you have to Regist...   \n",
       "19277  <p>I am in Austria on a Visa D multiple entry,...   \n",
       "19278  <p>What is the shortest passenger route served...   \n",
       "\n",
       "                                                    tags   topic  \n",
       "19274  usa food-and-drink california tipping san-fran...  travel  \n",
       "19275                     uk canada france culture gifts  travel  \n",
       "19276  customs-and-immigration officials registration...  travel  \n",
       "19277                                      visas austria  travel  \n",
       "19278                                           untagged  travel  "
      ]
     },
     "execution_count": 13,
     "metadata": {},
     "output_type": "execute_result"
    }
   ],
   "source": [
    "df_all.tail()"
   ]
  },
  {
   "cell_type": "code",
   "execution_count": 27,
   "metadata": {
    "collapsed": true
   },
   "outputs": [],
   "source": [
    "# randomly look into one row\n",
    "def peek():\n",
    "    df_slice = df_all.sample(1)\n",
    "    print list(df_slice['title'])[0]\n",
    "    print list(df_slice['content'])[0]\n",
    "    print list(df_slice['tags'])[0]\n",
    "    print list(df_slice['topic'])[0]"
   ]
  },
  {
   "cell_type": "code",
   "execution_count": 35,
   "metadata": {
    "collapsed": false
   },
   "outputs": [
    {
     "name": "stdout",
     "output_type": "stream",
     "text": [
      "What happens if my ESTA expires on the day of arrival?\n",
      "<p>I'm French and will travel the 14th of June to the US. My ESTA expires the 14th of  June 2013 and I'm wondering if my ESTA will be valid when I'll land in the US on the 14th of June 2013.</p>\n",
      "\n",
      "<p>Does someone know anything about that?</p>\n",
      "\n",
      "usa esta\n",
      "travel\n"
     ]
    }
   ],
   "source": [
    "peek()"
   ]
  },
  {
   "cell_type": "code",
   "execution_count": null,
   "metadata": {
    "collapsed": true
   },
   "outputs": [],
   "source": []
  }
 ],
 "metadata": {
  "kernelspec": {
   "display_name": "Python 2",
   "language": "python",
   "name": "python2"
  },
  "language_info": {
   "codemirror_mode": {
    "name": "ipython",
    "version": 2
   },
   "file_extension": ".py",
   "mimetype": "text/x-python",
   "name": "python",
   "nbconvert_exporter": "python",
   "pygments_lexer": "ipython2",
   "version": "2.7.10"
  }
 },
 "nbformat": 4,
 "nbformat_minor": 2
}
